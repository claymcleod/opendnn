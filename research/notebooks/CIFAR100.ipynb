{
 "cells": [
  {
   "cell_type": "code",
   "execution_count": 1,
   "metadata": {
    "collapsed": false
   },
   "outputs": [
    {
     "name": "stderr",
     "output_type": "stream",
     "text": [
      "Using Theano backend.\n",
      "/Library/Frameworks/Python.framework/Versions/2.7/lib/python2.7/site-packages/Theano-0.8.0.dev0-py2.7.egg/theano/tensor/signal/downsample.py:5: UserWarning: downsample module has been moved to the pool module.\n",
      "  warnings.warn(\"downsample module has been moved to the pool module.\")\n"
     ]
    }
   ],
   "source": [
    "# Setup\n",
    "\n",
    "import os\n",
    "import sys\n",
    "from keras.models import Sequential\n",
    "from keras.layers.core import Dense, Dropout, Activation, Flatten\n",
    "from keras.layers.convolutional import Convolution2D, MaxPooling2D\n",
    "from keras.preprocessing.image import ImageDataGenerator\n",
    "from keras.layers.advanced_activations import Quorum\n",
    "from keras.datasets import cifar100\n",
    "from keras.utils import np_utils\n",
    "from keras import backend as K\n",
    "from keras.activations import relu\n",
    "from keras.callbacks import ModelCheckpoint\n",
    "\n",
    "def pushln(line):\n",
    "    sys.stdout.write(line)\n",
    "    sys.stdout.flush()\n",
    "    \n",
    "def step(X):\n",
    "    return K.switch(X <= 0, 0, 1)\n",
    "\n",
    "def prepare_input_data(X_train, X_test):\n",
    "    X_train = X_train.astype('float32') / 255.0\n",
    "    X_test = X_test.astype('float32') / 255.0\n",
    "    return X_train, X_test\n",
    "\n",
    "def prepare_output_data(y_train, y_test):\n",
    "    y_train = np_utils.to_categorical(y_train)\n",
    "    y_test = np_utils.to_categorical(y_test)\n",
    "    return y_train, y_test\n",
    "\n",
    "def get_af(name):\n",
    "    af = name.lower()\n",
    "    \n",
    "    if af == \"relu\":\n",
    "        return Activation('relu')\n",
    "    elif af == \"pap\":\n",
    "        return Quorum([relu, step])\n",
    "    else:\n",
    "        raise RuntimeError(\"Unrecognized activation function: {}\".format(name))\n",
    "\n",
    "def add_convolutional_layers(model, activation_name, n, filter_size, window, dropout=0.25, stack_finished=True):\n",
    "    for i in range(n):\n",
    "        model.add(Convolution2D(filter_size, window, window, border_mode=\"same\"))\n",
    "        model.add(get_af(activation_name))\n",
    "    if stack_finished:\n",
    "        model.add(MaxPooling2D(pool_size=(2, 2)))\n",
    "        model.add(Dropout(dropout))"
   ]
  },
  {
   "cell_type": "code",
   "execution_count": null,
   "metadata": {
    "collapsed": false
   },
   "outputs": [
    {
     "name": "stdout",
     "output_type": "stream",
     "text": [
      "Compiling model...finished.\n",
      "Fitting ImageDataGenerator...finished...Beginning training...\n"
     ]
    }
   ],
   "source": [
    "# Script\n",
    "\n",
    "af = \"pap\" #pap, relu\n",
    "\n",
    "(X_train, y_train), (X_test, y_test) = cifar100.load_data()\n",
    "X_train, X_test = prepare_input_data(X_train, X_test)\n",
    "y_train, y_test = prepare_output_data(y_train, y_test)\n",
    "\n",
    "model = Sequential()\n",
    "\n",
    "# 1 x 384 x 3\n",
    "model.add(Convolution2D(384, 3, 3, border_mode='same',\n",
    "                        input_shape=(3, 32, 32)))\n",
    "model.add(get_af(af))\n",
    "model.add(MaxPooling2D(pool_size=(2, 2)))\n",
    "model.add(Dropout(0.25))\n",
    "\n",
    "# 1 x 384 x 1\n",
    "add_convolutional_layers(model, af, 1, 384, 1, stack_finished=False)\n",
    "# 2 x 640 x 2\n",
    "add_convolutional_layers(model, af, 2, 640, 2)\n",
    "\n",
    "# 1 x 640 x 3\n",
    "add_convolutional_layers(model, af, 1, 640, 3, stack_finished=False)\n",
    "# 3 x 768 x 3\n",
    "add_convolutional_layers(model, af, 3, 768, 3)\n",
    "\n",
    "# 1 x 768 x 3\n",
    "add_convolutional_layers(model, af, 1, 768, 3, stack_finished=False)\n",
    "# 2 x 896 x 3\n",
    "add_convolutional_layers(model, af, 2, 896, 3)\n",
    "\n",
    "# 1 x 896 x 3\n",
    "add_convolutional_layers(model, af, 1, 896, 3, stack_finished=False)\n",
    "# 2 x 1024 x 3\n",
    "add_convolutional_layers(model, af, 2, 1024, 3)\n",
    "\n",
    "# 1 x 1024 x 3\n",
    "add_convolutional_layers(model, af, 1, 1024, 3, stack_finished=False)\n",
    "# 2 x 1152 x 3\n",
    "add_convolutional_layers(model, af, 2, 1152, 3, stack_finished=False)\n",
    "\n",
    "# 1 x 100 x FC\n",
    "model.add(Dropout(0.25))\n",
    "model.add(Flatten())\n",
    "model.add(Dense(4096))\n",
    "model.add(get_af(af))\n",
    "model.add(Dropout(0.5))\n",
    "model.add(Dense(4096))\n",
    "model.add(get_af(af))\n",
    "model.add(Dropout(0.5))\n",
    "model.add(Dense(100))\n",
    "model.add(Activation('softmax'))\n",
    "\n",
    "pushln(\"Compiling model...\")\n",
    "model.compile(loss='categorical_crossentropy', optimizer='sgd')\n",
    "pushln(\"finished.\\n\")\n",
    "\n",
    "datagen = ImageDataGenerator(\n",
    "    featurewise_center=True,  # set input mean to 0 over the dataset\n",
    "    samplewise_center=False,  # set each sample mean to 0\n",
    "    featurewise_std_normalization=True,  # divide inputs by std of the dataset\n",
    "    samplewise_std_normalization=False,  # divide each input by its std\n",
    "    zca_whitening=True,  # apply ZCA whitening\n",
    "    rotation_range=0,  # randomly rotate images in the range (degrees, 0 to 180)\n",
    "    width_shift_range=0.1,  # randomly shift images horizontally (fraction of total width)\n",
    "    height_shift_range=0.1,  # randomly shift images vertically (fraction of total height)\n",
    "    horizontal_flip=True,  # randomly flip images\n",
    "    vertical_flip=False)  # randomly flip images\n",
    "\n",
    "pushln(\"Fitting ImageDataGenerator...\")\n",
    "datagen.fit(X_train)\n",
    "pushln(\"finished...\\n\")\n",
    "mc = ModelCheckpoint(\"weights_\"+af, save_best_only=True, verbose=1)\n",
    "pushln(\"Beginning training...\\n\")\n",
    "hist = model.fit_generator(datagen.flow(X_train, y_train, batch_size=128), verbose=1,\n",
    "                        samples_per_epoch=X_train.shape[0],\n",
    "                        nb_epoch=200, show_accuracy=True,\n",
    "                        validation_data=(X_test, y_test),\n",
    "                        nb_worker=1, callbacks=[mc])"
   ]
  },
  {
   "cell_type": "code",
   "execution_count": null,
   "metadata": {
    "collapsed": true
   },
   "outputs": [],
   "source": []
  }
 ],
 "metadata": {
  "kernelspec": {
   "display_name": "Python 2",
   "language": "python",
   "name": "python2"
  },
  "language_info": {
   "codemirror_mode": {
    "name": "ipython",
    "version": 2
   },
   "file_extension": ".py",
   "mimetype": "text/x-python",
   "name": "python",
   "nbconvert_exporter": "python",
   "pygments_lexer": "ipython2",
   "version": "2.7.11"
  }
 },
 "nbformat": 4,
 "nbformat_minor": 0
}
