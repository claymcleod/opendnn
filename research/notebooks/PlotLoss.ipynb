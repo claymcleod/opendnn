{
 "cells": [
  {
   "cell_type": "code",
   "execution_count": null,
   "metadata": {
    "collapsed": false
   },
   "outputs": [
    {
     "name": "stdout",
     "output_type": "stream",
     "text": [
      "Using Theano backend.\n",
      "X_train shape: (50000, 3, 32, 32)\n",
      "50000 train samples\n",
      "10000 test samples\n",
      "Compiling\n",
      "Done!"
     ]
    }
   ],
   "source": [
    "'''Train a simple deep CNN on the CIFAR10 small images dataset.\n",
    "\n",
    "GPU run command:\n",
    "    THEANO_FLAGS=mode=FAST_RUN,device=gpu,floatX=float32 python cifar10_cnn.py\n",
    "\n",
    "It gets down to 0.65 test logloss in 25 epochs, and down to 0.55 after 50 epochs.\n",
    "(it's still underfitting at that point, though).\n",
    "\n",
    "Note: the data was pickled with Python 2, and some encoding issues might prevent you\n",
    "from loading it in Python 3. You might have to load it in Python 2,\n",
    "save it in a different format, load it in Python 3 and repickle it.\n",
    "'''\n",
    "\n",
    "from __future__ import print_function\n",
    "from keras.datasets import cifar10\n",
    "from keras.preprocessing.image import ImageDataGenerator\n",
    "from keras.models import Sequential\n",
    "from keras.layers.core import Dense, Dropout, Activation, Flatten\n",
    "from keras.layers.convolutional import Convolution2D, MaxPooling2D\n",
    "from keras.optimizers import SGD\n",
    "from keras.utils import np_utils\n",
    "\n",
    "batch_size = 32\n",
    "nb_classes = 10\n",
    "nb_epoch = 200\n",
    "data_augmentation = True\n",
    "\n",
    "# input image dimensions\n",
    "img_rows, img_cols = 32, 32\n",
    "# the CIFAR10 images are RGB\n",
    "img_channels = 3\n",
    "\n",
    "# the data, shuffled and split between train and test sets\n",
    "(X_train, y_train), (X_test, y_test) = cifar10.load_data()\n",
    "print('X_train shape:', X_train.shape)\n",
    "print(X_train.shape[0], 'train samples')\n",
    "print(X_test.shape[0], 'test samples')\n",
    "\n",
    "# convert class vectors to binary class matrices\n",
    "Y_train = np_utils.to_categorical(y_train, nb_classes)\n",
    "Y_test = np_utils.to_categorical(y_test, nb_classes)\n",
    "\n",
    "model = Sequential()\n",
    "\n",
    "model.add(Convolution2D(32, 3, 3, border_mode='same',\n",
    "                        input_shape=(img_channels, img_rows, img_cols)))\n",
    "model.add(Activation('relu'))\n",
    "model.add(MaxPooling2D(pool_size=(2, 2)))\n",
    "model.add(Dropout(0.25))\n",
    "\n",
    "model.add(Flatten())\n",
    "model.add(Dense(512))\n",
    "model.add(Activation('relu'))\n",
    "model.add(Dropout(0.5))\n",
    "model.add(Dense(512))\n",
    "model.add(Activation('relu'))\n",
    "model.add(Dropout(0.5))\n",
    "model.add(Dense(nb_classes))\n",
    "model.add(Activation('softmax'))\n",
    "\n",
    "# let's train the model using SGD + momentum (how original).\n",
    "sgd = SGD(lr=0.01, decay=1e-6, momentum=0.9, nesterov=True)\n",
    "print(\"Compiling\")\n",
    "model.compile(loss='mse', optimizer=sgd)\n",
    "print(\"Done!\")\n",
    "X_train = X_train.astype('float32')\n",
    "X_test = X_test.astype('float32')\n",
    "X_train /= 255\n",
    "X_test /= 255"
   ]
  },
  {
   "cell_type": "code",
   "execution_count": 15,
   "metadata": {
    "collapsed": false
   },
   "outputs": [
    {
     "name": "stderr",
     "output_type": "stream",
     "text": [
      "\n",
      "KeyboardInterrupt\n"
     ]
    }
   ],
   "source": [
    "import numpy as np\n",
    "\n",
    "def plot_random_weights(model, X_test, Y_test, min_val=-2.01, max_val=2.01, interval=3):\n",
    "    x_plot = []\n",
    "    y_plot = []\n",
    "    z_plot = []\n",
    "    weights_to_vary = []\n",
    "    \n",
    "    print(\"Hello\")\n",
    "    for index, layer in enumerate(model.layers):\n",
    "        ln = layer.__class__.__name__\n",
    "        if \"Dense\" in ln or \"Conv\" in ln:\n",
    "            i = np.random.randint(len(layer.W.get_value()))\n",
    "            j = np.random.randint(len(layer.W.get_value()[i]))\n",
    "            pair = (index, i, j)\n",
    "            weights_to_vary.append(pair)\n",
    "            \n",
    "    pair_one = np.random.randint(len(weights_to_vary))\n",
    "    pair_two = np.random.randint(len(weights_to_vary))\n",
    "    \n",
    "    while pair_one == pair_two:\n",
    "        pair_two = np.random.randint(len(weights_to_vary))\n",
    "        \n",
    "    pair_one = weights_to_vary[pair_one]\n",
    "    pair_two = weights_to_vary[pair_two]\n",
    "    weights_one = model.layers[pair_one[0]].W.get_value()\n",
    "    weights_two = model.layers[pair_two[0]].W.get_value()\n",
    "    \n",
    "    print(\"Starting analysis...\")\n",
    "    for I in np.arange(min_val, max_val, interval):\n",
    "        for J in np.arange(min_val, max_val, interval):\n",
    "            print(\"[{}][{}]\".format(I, J))\n",
    "            weights_one[pair_one[1]][pair_one[2]] = I\n",
    "            weights_two[pair_two[1]][pair_two[2]] = J\n",
    "            model.layers[pair_one[0]].W.set_value(weights_one)\n",
    "            model.layers[pair_two[0]].W.set_value(weights_two)\n",
    "            loss = model.evaluate(X_test, Y_test, verbose=0)\n",
    "            x_plot.append(I)\n",
    "            y_plot.append(J)\n",
    "            z_plot.append(loss)\n",
    "    \n",
    "    return x_plot, y_plot, z_plot\n",
    "\n",
    "x_plot, y_plot, z_plot = plot_random_weights(model, X_test, Y_test)"
   ]
  },
  {
   "cell_type": "code",
   "execution_count": 14,
   "metadata": {
    "collapsed": false
   },
   "outputs": [],
   "source": [
    "import matplotlib.pyplot as plt\n",
    "from mpl_toolkits.mplot3d import Axes3D\n",
    "from matplotlib import cm\n",
    "\n",
    "fig = plt.figure(figsize=plt.figaspect(0.5))\n",
    "fig.suptitle(\"Loss function as a function of weights\")\n",
    "ax = fig.add_subplot(1, 1, 1, projection='3d')\n",
    "ax.plot_trisurf(x_plot, y_plot, z_plot, cmap=cm.jet, linewidth=0.2)\n",
    "plt.title(\"Before\")\n",
    "ax.set_xlabel(\"W_1 value\")\n",
    "ax.set_ylabel(\"W_2 value\")\n",
    "ax.set_zlabel(\"Loss (mean squared error)\")\n",
    "plt.show()"
   ]
  },
  {
   "cell_type": "code",
   "execution_count": null,
   "metadata": {
    "collapsed": true
   },
   "outputs": [],
   "source": []
  }
 ],
 "metadata": {
  "kernelspec": {
   "display_name": "Python 2",
   "language": "python",
   "name": "python2"
  },
  "language_info": {
   "codemirror_mode": {
    "name": "ipython",
    "version": 2
   },
   "file_extension": ".py",
   "mimetype": "text/x-python",
   "name": "python",
   "nbconvert_exporter": "python",
   "pygments_lexer": "ipython2",
   "version": "2.7.11"
  }
 },
 "nbformat": 4,
 "nbformat_minor": 0
}
